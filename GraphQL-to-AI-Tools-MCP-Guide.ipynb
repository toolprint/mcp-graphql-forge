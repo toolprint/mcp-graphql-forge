{
  "cells": [
    {
      "cell_type": "markdown",
      "metadata": {
        "vscode": {
          "languageId": "raw"
        }
      },
      "source": [
        "# 🚀 GraphQL to MCP Starterkit\n",
        "\n",
        "**Do you want to use your GraphQL APIs with agents? Let's give it a shot.**\n",
        "\n",
        "## 📋 Goals\n",
        "\n",
        "### The Basics\n",
        "1. **GraphQL ↔ AI Concepts**: How schemas become tool contracts\n",
        "2. **Safety First**: Queries vs mutations in AI context  \n",
        "3. **Hands-On Examples**: Real GraphQL APIs → MCP\n",
        "\n",
        "## Connect your GQL APIs to real AI apps\n",
        "4. **AI Client Integration**: Claude & Cursor setup\n",
        "5. **Schema Design**: Writing AI-friendly documentation\n",
        "\n",
        "## Beyond the homelab setup\n",
        "6. **Production Ready**: Authentication, governance, monitoring\n",
        "7. **Toolprint Integration**: Smart tool orchestration\n",
        "\n",
        "## 🎯 Prerequisites\n",
        "\n",
        "- Basic GraphQL knowledge (queries, mutations, schemas)\n",
        "- Command line comfort\n",
        "- Node.js installed\n",
        "- An existing GraphQL API (or we'll use examples)\n",
        "\n",
        "\n",
        "---\n"
      ]
    },
    {
      "cell_type": "markdown",
      "metadata": {
        "vscode": {
          "languageId": "raw"
        }
      },
      "source": [
        "## 🧠 Chapter 1: GraphQL Meets AI - The Conceptual Bridge\n",
        "\n",
        "### Why GraphQL + AI = Perfect Match\n",
        "\n",
        "GraphQL APIs are uniquely suited for AI tool integration because they are:\n",
        "\n",
        "- **🔍 Self-Documenting**: Schemas contain type information and descriptions\n",
        "- **🎯 Strongly Typed**: Clear parameter validation and return types  \n",
        "- **🔎 Introspectable**: APIs can describe themselves programmatically\n",
        "- **⚡ Efficient**: Single endpoint, precise field selection\n",
        "\n",
        "### The Challenge: Raw GraphQL ≠ AI-Ready Tools\n",
        "\n",
        "However, GraphQL APIs aren't immediately AI-accessible:\n",
        "\n",
        "```graphql\n",
        "# This GraphQL query...\n",
        "query GetUser($id: ID!) {\n",
        "  user(id: $id) {\n",
        "    id\n",
        "    name\n",
        "    posts {\n",
        "      title\n",
        "      author {  # 🚨 Circular reference!\n",
        "        name\n",
        "      }\n",
        "    }\n",
        "  }\n",
        "}\n",
        "```\n",
        "\n",
        "**AI agents struggle with:**\n",
        "- Writing complex field selections\n",
        "- Handling circular references  \n",
        "- Understanding parameter requirements\n",
        "- Knowing which tools exist\n"
      ]
    },
    {
      "cell_type": "markdown",
      "metadata": {
        "vscode": {
          "languageId": "raw"
        }
      },
      "source": [
        "### The MCP Solution: Universal Tool Protocol\n",
        "\n",
        "**Model Context Protocol (MCP)** bridges this gap by providing a standardized way for AI tools to communicate with data sources and APIs.\n",
        "\n",
        "The solution requires something that can:\n",
        "1. **Introspect the GraphQL schema** to understand available operations\n",
        "2. **Generate individual tools** for each query and mutation\n",
        "3. **Handle field selection automatically** to avoid GraphQL validation errors\n",
        "4. **Provide proper parameter validation** before execution\n",
        "\n",
        "\n",
        "<img alt=\"Basic architecture of a MCP <> GraphQL Proxy\" src=\"./assets/mcp-graphql-proxy.png\" width=\"100%\" height=\"100%\">"
      ]
    },
    {
      "cell_type": "markdown",
      "metadata": {
        "vscode": {
          "languageId": "plaintext"
        }
      },
      "source": [
        "### 🍱 Some Food for Thought\n",
        "\n",
        "Before we dive into implementation, there are important caveats to consider:\n",
        "\n",
        "#### 1. **Mutation Safety**: Should mutations be exposed as tools?\n",
        "```graphql\n",
        "# This becomes a tool that could delete data!\n",
        "type Mutation {\n",
        "  deleteUser(id: ID!): Boolean\n",
        "  chargeCard(amount: Float!): PaymentResult  \n",
        "}\n",
        "```\n",
        "**Question**: Should AI agents have unrestricted access to write operations?\n",
        "\n",
        "#### 2. **Data Shape**: How much data should we return?\n",
        "```graphql\n",
        "# Minimal - fast, fits in context\n",
        "{ id, name }\n",
        "\n",
        "# Expansive - comprehensive, but large\n",
        "{ id, name, email, posts { title, content, comments { author, text } } }\n",
        "```\n",
        "**Consideration**: Context window limits vs completeness\n",
        "\n",
        "#### 3. **Query Composition**: Some queries only make sense together\n",
        "```graphql\n",
        "# Step 1: Get user ID\n",
        "user(username: \"john\") { id }\n",
        "\n",
        "# Step 2: Get user's posts (needs ID from step 1)  \n",
        "posts(authorId: \"user-123\") { title }\n",
        "```\n",
        "#### 4. **Challenge**: Individual tools may not provide complete workflows"
      ]
    },
    {
      "cell_type": "markdown",
      "metadata": {
        "vscode": {
          "languageId": "raw"
        }
      },
      "source": [
        "## 🔬 Chapter 3: DEMO - make a real GraphQL service an MCP\n",
        "\n",
        "Option 1 - **connect to toolprint graphql api without authentication**\n",
        "_Note that this may take a few seconds to load up because it's running on Strapi's free tier_\n",
        "\n",
        "This will be your environment variable for the next step:\n",
        "```\n",
        "export GRAPHQL_ENDPOINT=https://patient-song-383e3762d2.strapiapp.com/graphql\n",
        "```"
      ]
    },
    {
      "cell_type": "code",
      "execution_count": null,
      "metadata": {
        "vscode": {
          "languageId": "plaintext"
        }
      },
      "outputs": [],
      "source": [
        "GRAPHQL_ENDPOINT=https://patient-song-383e3762d2.strapiapp.com/graphql \\\n",
        "npx -y @toolprint/mcp-graphql-forge --transport http --port 3001"
      ]
    },
    {
      "cell_type": "markdown",
      "metadata": {},
      "source": [
        "Option 2 - **connect to the github graphql API**\n",
        "1. Grab your existing Github Personal Access Token (! Ensure that it only has READ perms for safety) OR [follow this guide](https://docs.github.com/en/rest/authentication/authenticating-to-the-rest-api?apiVersion=2022-11-28) to create a new one. \n",
        "\n",
        "These will be your environment variables for the next step:\n",
        "```\n",
        "export GRAPHQL_ENDPOINT=https://api.github.com/graphql\n",
        "export GRAPHQL_AUTH_HEADER=Bearer ${GH_TOKEN}\n",
        "```"
      ]
    },
    {
      "cell_type": "code",
      "execution_count": null,
      "metadata": {
        "vscode": {
          "languageId": "plaintext"
        }
      },
      "outputs": [],
      "source": [
        "GRAPHQL_ENDPOINT=https://api.github.com/graphql \\\n",
        "GRAPHQL_AUTH_HEADER=Bearer ${GH_TOKEN} \\\n",
        "npx -y @toolprint/mcp-graphql-forge --transport http --port 3001"
      ]
    },
    {
      "cell_type": "markdown",
      "metadata": {},
      "source": [
        "Now we'll inspect our tools using [mcp inspector](https://github.com/modelcontextprotocol/inspector)\n",
        "When we launch the inspector, grab the URL outputted in the terminal and open it up. Then, connect to our launched MCP <> GraphQL Proxy on the connection menu like so:\n",
        "\n",
        "<img alt=\"Basic architecture of a MCP <> GraphQL Proxy\" src=\"./assets/connect-via-inspector.png\" width=\"30%\" height=\"30%\">\n",
        "\n",
        "**Note that our mcp <> graphql proxy is using the Streamable HTTP transport via the --transport http flag**\n",
        "\n",
        "## Exploring Our Tools in MCP Inspector\n",
        "\n"
      ]
    },
    {
      "cell_type": "code",
      "execution_count": null,
      "metadata": {
        "vscode": {
          "languageId": "plaintext"
        }
      },
      "outputs": [],
      "source": []
    },
    {
      "cell_type": "code",
      "execution_count": null,
      "metadata": {
        "vscode": {
          "languageId": "plaintext"
        }
      },
      "outputs": [],
      "source": []
    },
    {
      "cell_type": "code",
      "execution_count": null,
      "metadata": {
        "vscode": {
          "languageId": "plaintext"
        }
      },
      "outputs": [],
      "source": [
        "# 🎬 LIVE DEMO: Watch the GraphQL → MCP transformation happen\n",
        "\n",
        "# Let's use our real Strapi CMS GraphQL API to see all the concepts in action\n",
        "GRAPHQL_ENDPOINT=\"https://patient-song-383e3762d2.strapiapp.com/graphql\" \\\n",
        "npx @toolprint/mcp-graphql-forge --transport http --port 3001\n",
        "\n",
        "# Watch for these key outputs:\n",
        "# 1. \"Introspecting GraphQL schema...\" - Schema analysis\n",
        "# 2. \"🗂️ Building field selection cache...\" - Solving the field selection problem  \n",
        "# 3. \"📊 Generated field selections for X types\" - Circular reference handling\n",
        "# 4. \"Generated Y tools from GraphQL schema\" - Individual tools created\n",
        "# 5. Tool breakdown: queries vs mutations\n",
        "\n",
        "# Strapi typically generates rich schemas with:\n",
        "# - Content types (Articles, Users, Categories, etc.)\n",
        "# - Nested relationships between entities\n",
        "# - Comprehensive field selections\n",
        "# - Both queries and mutations for CRUD operations\n"
      ]
    },
    {
      "cell_type": "code",
      "execution_count": null,
      "metadata": {
        "vscode": {
          "languageId": "plaintext"
        }
      },
      "outputs": [],
      "source": [
        "## 🤖 Chapter 4: Connecting to AI Clients (Claude/Cursor)\n",
        "\n",
        "Now that we've tested our GraphQL-to-MCP bridge, let's connect it to actual AI clients where the real magic happens.\n",
        "\n",
        "### The Transport Switch: HTTP → Stdio\n",
        "\n",
        "**Important**: AI clients like Claude and Cursor use **stdio transport**, not HTTP.\n",
        "\n",
        "- **HTTP Transport** = Great for development, testing with Inspector\n",
        "- **Stdio Transport** = Required for AI client integration\n",
        "\n",
        "### Step 1: Configure for Claude Desktop\n",
        "\n",
        "Create or edit your `claude_desktop_config.json` file:\n",
        "\n",
        "**Location**:\n",
        "- **macOS**: `~/Library/Application Support/Claude/claude_desktop_config.json`\n",
        "- **Windows**: `%APPDATA%\\Claude\\claude_desktop_config.json`\n"
      ]
    },
    {
      "cell_type": "code",
      "execution_count": null,
      "metadata": {
        "vscode": {
          "languageId": "json"
        }
      },
      "outputs": [],
      "source": [
        "{\n",
        "  \"mcpServers\": {\n",
        "    \"strapi-cms\": {\n",
        "      \"command\": \"npx\",\n",
        "      \"args\": [\n",
        "        \"-y\",\n",
        "        \"@toolprint/mcp-graphql-forge\"\n",
        "      ],\n",
        "      \"env\": {\n",
        "        \"GRAPHQL_ENDPOINT\": \"https://patient-song-383e3762d2.strapiapp.com/graphql\"\n",
        "      }\n",
        "    }\n",
        "  }\n",
        "}\n"
      ]
    },
    {
      "cell_type": "code",
      "execution_count": null,
      "metadata": {
        "vscode": {
          "languageId": "plaintext"
        }
      },
      "outputs": [],
      "source": [
        "### Step 2: Configure for Cursor\n",
        "\n",
        "Create or edit your `mcp.json` file in your project root:\n"
      ]
    },
    {
      "cell_type": "code",
      "execution_count": null,
      "metadata": {
        "vscode": {
          "languageId": "json"
        }
      },
      "outputs": [],
      "source": [
        "{\n",
        "  \"mcpServers\": {\n",
        "    \"strapi-cms\": {\n",
        "      \"command\": \"npx\",\n",
        "      \"args\": [\n",
        "        \"-y\", \n",
        "        \"@toolprint/mcp-graphql-forge\"\n",
        "      ],\n",
        "      \"env\": {\n",
        "        \"GRAPHQL_ENDPOINT\": \"https://patient-song-383e3762d2.strapiapp.com/graphql\"\n",
        "      }\n",
        "    }\n",
        "  }\n",
        "}\n"
      ]
    },
    {
      "cell_type": "code",
      "execution_count": null,
      "metadata": {
        "vscode": {
          "languageId": "plaintext"
        }
      },
      "outputs": [],
      "source": [
        "### Step 3: Test the Integration\n",
        "\n",
        "#### For Claude Desktop:\n",
        "1. **Save the config file** and restart Claude Desktop\n",
        "2. **Look for the 🔌 icon** in the Claude interface\n",
        "3. **Start a conversation**: \"What articles are available in the CMS?\"\n",
        "4. **Watch Claude use the tools** automatically!\n",
        "\n",
        "#### For Cursor:\n",
        "1. **Save the mcp.json file** in your project root\n",
        "2. **Restart Cursor** and open the project\n",
        "3. **Ask about your CMS**: \"Show me the latest articles from the CMS\"\n",
        "4. **See Cursor query your GraphQL API** through the generated tools\n",
        "\n",
        "### 🎯 Test Prompts to Try\n",
        "\n",
        "#### Safe Exploration (Queries Only)\n",
        "- \"What content types are available in the CMS?\"\n",
        "- \"Show me the 5 most recent articles\"\n",
        "- \"List all categories and their article counts\"\n",
        "- \"Find articles containing 'tutorial' in the title\"\n",
        "\n",
        "#### Advanced Analysis  \n",
        "- \"Analyze the content strategy - which categories have the most articles?\"\n",
        "- \"Create a summary of all article titles and their publication dates\"\n",
        "- \"What are the top authors by article count?\"\n",
        "\n",
        "### 🛡️ Safety Note\n",
        "\n",
        "Remember: The tools generated include both **queries** (safe) and **mutations** (potentially destructive). For production use, consider:\n",
        "- Starting with query-only mode\n",
        "- Adding authentication requirements\n",
        "- Implementing audit logging for mutations\n"
      ]
    },
    {
      "cell_type": "code",
      "execution_count": null,
      "metadata": {
        "vscode": {
          "languageId": "plaintext"
        }
      },
      "outputs": [],
      "source": []
    },
    {
      "cell_type": "code",
      "execution_count": null,
      "metadata": {
        "vscode": {
          "languageId": "plaintext"
        }
      },
      "outputs": [],
      "source": [
        "# 🚀 From GraphQL APIs to AI Tools: A Complete MCP Guide\n",
        "\n",
        "**Transform your existing GraphQL APIs into AI-accessible tools with Model Context Protocol (MCP)**\n",
        "\n",
        "---\n",
        "\n",
        "\n",
        "## 📋 What You'll Learn\n",
        "\n",
        "1. **GraphQL ↔ AI Concepts**: How schemas become tool contracts\n",
        "2. **Safety First**: Queries vs mutations in AI context  \n",
        "3. **Hands-On Examples**: Real GraphQL APIs → AI tools\n",
        "4. **Schema Design**: Writing AI-friendly documentation\n",
        "5. **Production Ready**: Authentication, governance, monitoring\n",
        "6. **Toolprint Integration**: Smart tool orchestration\n",
        "\n",
        "---\n",
        "\n",
        "## 🎯 Prerequisites\n",
        "\n",
        "- Basic GraphQL knowledge (queries, mutations, schemas)\n",
        "- Command line comfort\n",
        "- Node.js installed\n",
        "- An existing GraphQL API (or we'll use examples)\n"
      ]
    },
    {
      "cell_type": "code",
      "execution_count": null,
      "metadata": {
        "vscode": {
          "languageId": "plaintext"
        }
      },
      "outputs": [],
      "source": [
        "## 🧠 Chapter 1: GraphQL Meets AI - The Conceptual Bridge\n",
        "\n",
        "### Why GraphQL + AI = Perfect Match\n",
        "\n",
        "### The Challenge: Raw GraphQL ≠ AI-Ready Tools\n",
        "\n",
        "However, GraphQL APIs aren't immediately AI-accessible:\n",
        "\n",
        "```graphql\n",
        "# This GraphQL query...\n",
        "query GetUser($id: ID!) {\n",
        "  user(id: $id) {\n",
        "    id\n",
        "    name\n",
        "    posts {\n",
        "      title\n",
        "      author {  # 🚨 Circular reference!\n",
        "        name\n",
        "      }\n",
        "    }\n",
        "  }\n",
        "}\n",
        "```\n",
        "\n",
        "**NOT MCP FRIENDLY**\n",
        "\n",
        "**AI agents struggle with:**\n",
        "- Writing complex field selections\n",
        "- Handling circular references  \n",
        "- Understanding parameter requirements\n",
        "- Knowing which tools exist\n"
      ]
    },
    {
      "cell_type": "code",
      "execution_count": null,
      "metadata": {
        "vscode": {
          "languageId": "plaintext"
        }
      },
      "outputs": [],
      "source": [
        "### The MCP Solution: Universal Tool Protocol\n",
        "\n",
        "**Model Context Protocol (MCP)** bridges this gap by providing a standardized way for AI tools to communicate with data sources and APIs.\n",
        "\n",
        "The solution requires something that can:\n",
        "1. **Introspect the GraphQL schema** to understand available operations\n",
        "2. **Generate individual tools** for each query and mutation\n",
        "3. **Handle field selection automatically** to avoid GraphQL validation errors\n",
        "4. **Provide proper parameter validation** before execution\n",
        "\n",
        "```mermaid\n",
        "graph LR\n",
        "    A[GraphQL API] --> B[Schema Introspection]\n",
        "    B --> C[Tool Generation]\n",
        "    C --> D[MCP Server]\n",
        "    D --> E[AI Agent Tools]\n",
        "    E --> F[Tool Calls]\n",
        "    F --> D\n",
        "    D --> G[GraphQL Queries]\n",
        "    G --> A\n",
        "```\n",
        "\n",
        "### ⚠️ Critical Design Considerations\n",
        "\n",
        "Before we dive into implementation, there are important caveats to consider:\n",
        "\n",
        "#### 1. **Mutation Safety**: Should mutations be exposed as tools?\n",
        "```graphql\n",
        "# This becomes a tool that could delete data!\n",
        "type Mutation {\n",
        "  deleteUser(id: ID!): Boolean\n",
        "  chargeCard(amount: Float!): PaymentResult  \n",
        "}\n",
        "```\n",
        "**Question**: Should AI agents have unrestricted access to write operations?\n",
        "\n",
        "#### 2. **Data Shape**: How much data should we return?\n",
        "```graphql\n",
        "# Minimal - fast, fits in context\n",
        "{ id, name }\n",
        "\n",
        "# Expansive - comprehensive, but large\n",
        "{ id, name, email, posts { title, content, comments { author, text } } }\n",
        "```\n",
        "**Consideration**: Context window limits vs completeness\n",
        "\n",
        "#### 3. **Query Composition**: Some queries only make sense together\n",
        "```graphql\n",
        "# Step 1: Get user ID\n",
        "user(username: \"john\") { id }\n",
        "\n",
        "# Step 2: Get user's posts (needs ID from step 1)  \n",
        "posts(authorId: \"user-123\") { title }\n",
        "```\n",
        "**Challenge**: Individual tools may not provide complete workflows\n",
        "\n",
        "### Schema → Tool Translation\n",
        "\n",
        "Let's see how GraphQL concepts map to AI tool concepts:\n",
        "\n",
        "| GraphQL Concept | AI Tool Equivalent | Example |\n",
        "|----------------|-------------------|---------|\n",
        "| **Query Field** | **Read Tool** | `query_user` → Get user data |\n",
        "| **Mutation Field** | **Write Tool** | `mutation_createPost` → Create content |\n",
        "| **Field Arguments** | **Tool Parameters** | `id: ID!` → Required string parameter |\n",
        "| **Field Description** | **Tool Description** | What the AI agent sees |\n",
        "| **Return Type** | **Tool Output** | Structured response data |\n",
        "\n",
        "### Critical Insight: Documentation = Tool Quality\n",
        "\n",
        "The quality of your GraphQL schema documentation **directly impacts** AI tool effectiveness:\n",
        "\n",
        "```graphql\n",
        "# ❌ Poor: AI won't understand what this does\n",
        "type Query {\n",
        "  user(id: ID!): User\n",
        "}\n",
        "\n",
        "# ✅ Excellent: AI understands purpose and usage  \n",
        "type Query {\n",
        "  \"\"\"\n",
        "  Fetch a user by their unique identifier. Returns user profile \n",
        "  information including name, email, and associated content.\n",
        "  Used for user lookup and profile management.\n",
        "  \"\"\"\n",
        "  user(\n",
        "    \"\"\"The unique identifier for the user to retrieve\"\"\"\n",
        "    id: ID!\n",
        "  ): User\n",
        "}\n",
        "```\n"
      ]
    },
    {
      "cell_type": "code",
      "execution_count": null,
      "metadata": {
        "vscode": {
          "languageId": "plaintext"
        }
      },
      "outputs": [],
      "source": [
        "## 🛡️ Chapter 2: Safety First - Queries vs Mutations in AI Context\n",
        "\n",
        "### The Read/Write Divide\n",
        "\n",
        "When exposing GraphQL APIs to AI agents, the distinction between queries and mutations becomes **critical for safety**:\n",
        "\n",
        "#### Queries (Read Operations) ✅ Lower Risk\n",
        "- **Data retrieval only**\n",
        "- **Idempotent** - safe to retry\n",
        "- **No side effects** \n",
        "- **Perfect for exploration** - agents can safely experiment\n",
        "\n",
        "```graphql\n",
        "type Query {\n",
        "  # Safe for AI agents\n",
        "  users: [User]\n",
        "  posts(limit: Int): [Post]  \n",
        "  searchContent(query: String!): [SearchResult]\n",
        "}\n",
        "```\n",
        "\n",
        "#### Mutations (Write Operations) ⚠️ Higher Risk  \n",
        "- **Modify data state**\n",
        "- **Have side effects** - create, update, delete\n",
        "- **Potentially expensive** - send emails, charge cards\n",
        "- **Require governance** - audit trails, approval workflows\n",
        "\n",
        "```graphql\n",
        "type Mutation {\n",
        "  # Requires careful consideration for AI\n",
        "  createUser(input: CreateUserInput!): User\n",
        "  deletePost(id: ID!): Boolean\n",
        "  chargeCard(amount: Float!, cardToken: String!): PaymentResult\n",
        "}\n"
      ]
    },
    {
      "cell_type": "code",
      "execution_count": null,
      "metadata": {
        "vscode": {
          "languageId": "plaintext"
        }
      },
      "outputs": [],
      "source": [
        "### Existing Solutions: The Traditional Approach\n",
        "\n",
        "Before we dive into our solution, let's examine an existing project that takes a different approach: **[mcp-graphql by blurrah](https://github.com/blurrah/mcp-graphql)** (207 stars, actively maintained).\n",
        "\n",
        "#### How Traditional MCP GraphQL Works\n",
        "\n",
        "The traditional approach exposes **only 2 generic tools**:\n",
        "\n",
        "1. **`introspect-schema`** - Get the schema structure\n",
        "2. **`query-graphql`** - Execute any GraphQL operation\n",
        "\n",
        "```javascript\n",
        "// Traditional approach: One generic tool for everything\n",
        "{\n",
        "  name: \"query-graphql\",\n",
        "  description: \"Execute GraphQL queries against the endpoint\",\n",
        "  inputSchema: {\n",
        "    type: \"object\", \n",
        "    properties: {\n",
        "      query: { type: \"string\" },    // Raw GraphQL string\n",
        "      variables: { type: \"object\" }  // Variables object\n",
        "    }\n",
        "  }\n",
        "}\n",
        "```\n",
        "\n",
        "#### The Challenge: Expert-Level Knowledge Required\n",
        "\n",
        "This approach expects the **caller to know**:\n",
        "- ✅ GraphQL query syntax\n",
        "- ✅ Exact field names and types\n",
        "- ✅ Proper field selection for complex types\n",
        "- ✅ How to handle circular references\n",
        "- ✅ Parameter requirements and formats\n",
        "\n",
        "**Example usage:**\n",
        "```graphql\n",
        "# AI agent must construct this entire query manually\n",
        "query GetUser($id: ID!) {\n",
        "  user(id: $id) {\n",
        "    id\n",
        "    name\n",
        "    email\n",
        "    posts {\n",
        "      title\n",
        "      content\n",
        "      author {  # Circular reference - how to handle?\n",
        "        id\n",
        "        name\n",
        "      }\n",
        "    }\n",
        "  }\n",
        "}\n",
        "```\n",
        "\n",
        "#### Why This Is Limiting for AI Agents\n",
        "\n",
        "1. **High Cognitive Load**: AI must understand GraphQL syntax deeply\n",
        "2. **Field Selection Complexity**: Agents struggle with nested object requirements  \n",
        "3. **Schema Discovery**: Must introspect first, then construct queries\n",
        "4. **Error-Prone**: Easy to create invalid field selections\n",
        "5. **No Guidance**: No hints about what each operation does\n",
        "\n",
        "This is exactly why we need a **different approach** that generates individual, purpose-built tools for each GraphQL operation.\n"
      ]
    },
    {
      "cell_type": "code",
      "execution_count": null,
      "metadata": {
        "vscode": {
          "languageId": "plaintext"
        }
      },
      "outputs": [],
      "source": [
        "## 🔬 Chapter 3: Hands-On Examples - Real APIs to AI Tools\n",
        "\n",
        "### Example A: Real Strapi CMS GraphQL API\n",
        "\n",
        "Let's start with a real-world Strapi CMS instance to understand the basics.\n",
        "\n",
        "#### Step 1: Install MCP GraphQL Forge\n"
      ]
    },
    {
      "cell_type": "code",
      "execution_count": null,
      "metadata": {
        "vscode": {
          "languageId": "plaintext"
        }
      },
      "outputs": [],
      "source": [
        "# Install the MCP GraphQL Forge package\n",
        "npm install -g @toolprint/mcp-graphql-forge\n",
        "\n",
        "# Or run directly with npx (recommended)\n",
        "npx @toolprint/mcp-graphql-forge --help\n"
      ]
    },
    {
      "cell_type": "code",
      "execution_count": null,
      "metadata": {
        "vscode": {
          "languageId": "plaintext"
        }
      },
      "outputs": [],
      "source": [
        "#### Step 2: Real-Life Demo - Let's See It In Action! \n",
        "\n",
        "Let's pause here for a **live demonstration** of the GraphQL proxy service in action.\n",
        "\n",
        "**What we'll observe:**\n",
        "- Schema introspection process\n",
        "- Tool generation from GraphQL fields\n",
        "- Field selection cache building\n",
        "- Generated tool inspection\n",
        "\n",
        "#### Step 3: Start with HTTP Transport (Development Mode)\n",
        "\n",
        "HTTP transport is perfect for development - you can inspect and test tools before integrating with AI agents.\n"
      ]
    },
    {
      "cell_type": "code",
      "execution_count": null,
      "metadata": {
        "vscode": {
          "languageId": "plaintext"
        }
      },
      "outputs": [],
      "source": [
        "# 🎬 LIVE DEMO: Watch the GraphQL → MCP transformation happen\n",
        "\n",
        "# Let's use our real Strapi CMS GraphQL API to see all the concepts in action\n",
        "GRAPHQL_ENDPOINT=\"https://patient-song-383e3762d2.strapiapp.com/graphql\" \\\n",
        "npx @toolprint/mcp-graphql-forge --transport http --port 3001\n",
        "\n",
        "# Watch for these key outputs:\n",
        "# 1. \"Introspecting GraphQL schema...\" - Schema analysis\n",
        "# 2. \"🗂️ Building field selection cache...\" - Solving the field selection problem  \n",
        "# 3. \"📊 Generated field selections for X types\" - Circular reference handling\n",
        "# 4. \"Generated Y tools from GraphQL schema\" - Individual tools created\n",
        "# 5. Tool breakdown: queries vs mutations\n",
        "\n",
        "# Strapi typically generates rich schemas with:\n",
        "# - Content types (Articles, Users, Categories, etc.)\n",
        "# - Nested relationships between entities\n",
        "# - Comprehensive field selections\n",
        "# - Both queries and mutations for CRUD operations\n",
        "\n",
        "# This demonstrates:\n",
        "# ✅ Automatic introspection (caveat #1 addressed)\n",
        "# ✅ Smart field selection (caveat #2 - balanced data shape)\n",
        "# ✅ Individual tool generation (caveat #3 - composition challenge)\n"
      ]
    },
    {
      "cell_type": "code",
      "execution_count": null,
      "metadata": {
        "vscode": {
          "languageId": "plaintext"
        }
      },
      "outputs": [],
      "source": [
        "### 🔍 Under the Hood: The 5-Step Transformation Process\n",
        "\n",
        "When you run the command above, here's exactly what happens behind the scenes:\n",
        "\n",
        "#### **Step 1: Schema Fetching** 📡\n",
        "```bash\n",
        "# Output: \"Introspecting GraphQL schema...\"\n",
        "```\n",
        "- **Connects** to your GraphQL endpoint\n",
        "- **Executes** a standard introspection query\n",
        "- **Downloads** the complete schema definition including types, fields, and descriptions\n",
        "\n",
        "#### **Step 2: JSON Schema Generation** 📋\n",
        "```bash  \n",
        "# Output: \"🗂️ Building field selection cache for all types...\"\n",
        "```\n",
        "- **Parses** the GraphQL schema into TypeScript objects\n",
        "- **Converts** GraphQL types to JSON Schema format for MCP\n",
        "- **Maps** GraphQL scalars (`String`, `Int`, `Boolean`) to JSON types\n",
        "- **Handles** complex types like enums, inputs, and nested objects\n",
        "\n",
        "#### **Step 3: Strict Tool Generation** 🛠️\n",
        "```bash\n",
        "# Output: \"Generated Y tools from GraphQL schema: X query tools, Y mutation tools\"\n",
        "```\n",
        "- **Creates individual MCP tools** for each GraphQL query and mutation\n",
        "- **Generates precise input schemas** that match GraphQL parameter requirements exactly\n",
        "- **Enforces required parameters** (NonNull types) vs optional ones\n",
        "- **Provides rich descriptions** from GraphQL schema documentation\n",
        "\n",
        "#### **Step 4: Smart Field Selection** 🎯\n",
        "```javascript\n",
        "// Instead of this manual complexity:\n",
        "query GetArticle($id: ID!) {\n",
        "  article(id: $id) {\n",
        "    id\n",
        "    title\n",
        "    content\n",
        "    author {\n",
        "      id\n",
        "      name\n",
        "      // What about circular references?\n",
        "    }\n",
        "  }\n",
        "}\n",
        "\n",
        "// MCP GraphQL Forge auto-generates optimal selections\n",
        "```\n",
        "- **Expands all scalar fields** automatically (`id`, `title`, `content`)\n",
        "- **Resolves nested objects** with proper field selections\n",
        "- **Handles circular references** intelligently (User → Posts → Author → User)\n",
        "\n",
        "#### **Step 5: Fragment Caching System** ⚡\n",
        "```bash\n",
        "# Output: \"📊 Generated field selections for X types\"\n",
        "# Output: \"💾 Field selection cache contains X full selections and Y minimal selections\"\n",
        "```\n",
        "- **Pre-computes field selections** for every GraphQL type once\n",
        "- **Caches full fragments** for comprehensive data retrieval\n",
        "- **Caches minimal fragments** for breaking circular references\n",
        "- **Ensures consistency** - same type always generates identical queries\n",
        "- **Optimizes performance** - no re-computation during tool execution\n",
        "\n",
        "### The Result: Perfect GraphQL Queries, Zero Manual Work\n",
        "\n",
        "Each generated tool knows exactly:\n",
        "- ✅ **What parameters to accept** (from GraphQL arguments)\n",
        "- ✅ **How to validate inputs** (from GraphQL type system)  \n",
        "- ✅ **Which fields to select** (from cached fragments)\n",
        "- ✅ **How to handle relationships** (via circular reference detection)\n",
        "\n",
        "This transforms a complex, error-prone manual process into a **reliable, automated system**.\n"
      ]
    },
    {
      "cell_type": "code",
      "execution_count": null,
      "metadata": {
        "vscode": {
          "languageId": "plaintext"
        }
      },
      "outputs": [],
      "source": [
        "### 🕵️ Now Let's Inspect and Test the Generated Tools\n",
        "\n",
        "With your MCP server running, let's explore the generated tools using the MCP Inspector.\n",
        "\n",
        "#### Step 1: Start the MCP Inspector\n"
      ]
    },
    {
      "cell_type": "code",
      "execution_count": null,
      "metadata": {
        "vscode": {
          "languageId": "plaintext"
        }
      },
      "outputs": [],
      "source": [
        "# In a NEW terminal window (keep the MCP server running in the first)\n",
        "npx @modelcontextprotocol/inspector\n",
        "\n",
        "# This will start the inspector on http://localhost:5173\n",
        "# You'll see output like:\n",
        "# ➜  Local:   http://localhost:5173/\n",
        "# ➜  Network: use --host to expose\n"
      ]
    },
    {
      "cell_type": "code",
      "execution_count": null,
      "metadata": {
        "vscode": {
          "languageId": "plaintext"
        }
      },
      "outputs": [],
      "source": [
        "#### Step 2: Connect to Your MCP Server\n",
        "\n",
        "1. **Open your browser** to `http://localhost:5173`\n",
        "2. **Enter server URL**: `http://localhost:3001/mcp`\n",
        "3. **Click \"Connect\"**\n",
        "4. **Watch the magic**: You'll see all the generated tools appear!\n",
        "\n",
        "#### Step 3: Explore the Generated Tools\n",
        "\n",
        "You should see tools like:\n",
        "- `query_articles` - Get blog posts/articles\n",
        "- `query_categories` - Get content categories\n",
        "- `query_users` - Get user information  \n",
        "- `mutation_createArticle` - Create new content\n",
        "- And many more based on your Strapi schema\n",
        "\n",
        "#### Step 4: Test Some Real Endpoints\n",
        "\n",
        "Let's test a few tools to see the system in action:\n"
      ]
    },
    {
      "cell_type": "code",
      "execution_count": null,
      "metadata": {
        "vscode": {
          "languageId": "plaintext"
        }
      },
      "outputs": [],
      "source": [
        "##### 🧪 Test 1: Query Articles (Safe Read Operation)\n",
        "\n",
        "**Tool**: `query_articles`\n",
        "**Purpose**: Get all articles from the CMS\n",
        "\n",
        "**Parameters to try**:\n",
        "```json\n",
        "{\n",
        "  \"pagination\": {\n",
        "    \"limit\": 5\n",
        "  }\n",
        "}\n",
        "```\n",
        "\n",
        "**What happens behind the scenes**:\n",
        "```graphql\n",
        "# MCP GraphQL Forge automatically generates:\n",
        "query articlesOperation($pagination: PaginationArg) {\n",
        "  articles(pagination: $pagination) {\n",
        "    data {\n",
        "      id\n",
        "      attributes {\n",
        "        title\n",
        "        content\n",
        "        publishedAt\n",
        "        # ... all available fields expanded automatically\n",
        "      }\n",
        "    }\n",
        "  }\n",
        "}\n",
        "```\n",
        "\n",
        "##### 🧪 Test 2: Query Single Article by ID\n",
        "\n",
        "**Tool**: `query_article`  \n",
        "**Purpose**: Get a specific article\n",
        "\n",
        "**Parameters to try**:\n",
        "```json\n",
        "{\n",
        "  \"id\": \"1\"\n",
        "}\n",
        "```\n",
        "\n",
        "**Note**: See how the tool **knows exactly** which parameters are required vs optional!\n",
        "\n",
        "##### 🧪 Test 3: Query Categories (Relationship Testing)\n",
        "\n",
        "**Tool**: `query_categories`\n",
        "**Purpose**: Get content categories with their related articles\n",
        "\n",
        "**Parameters to try**:\n",
        "```json\n",
        "{\n",
        "  \"pagination\": {\n",
        "    \"limit\": 3\n",
        "  }\n",
        "}\n",
        "```\n",
        "\n",
        "**Observe**: How nested relationships are automatically resolved with proper field selections.\n"
      ]
    },
    {
      "cell_type": "code",
      "execution_count": null,
      "metadata": {
        "vscode": {
          "languageId": "plaintext"
        }
      },
      "outputs": [],
      "source": [
        "##### ⚠️ Test 4: Mutation Testing (Be Careful!)\n",
        "\n",
        "**⚠️ WARNING**: Mutations modify your data! Only test if you're comfortable with changes.\n",
        "\n",
        "**Tool**: `mutation_createArticle`\n",
        "**Purpose**: Create a new article\n",
        "\n",
        "**Parameters to try** (if you want to test):\n",
        "```json\n",
        "{\n",
        "  \"data\": {\n",
        "    \"title\": \"Test Article from MCP\",\n",
        "    \"content\": \"This article was created through the MCP GraphQL bridge!\"\n",
        "  }\n",
        "}\n",
        "```\n",
        "\n",
        "**Better approach for learning**: \n",
        "- Just **inspect the tool parameters** to see the input schema\n",
        "- **Don't execute** unless you want to create test data\n",
        "- **Observe** how required fields are marked vs optional ones\n",
        "\n",
        "### 🎯 What to Observe During Testing\n",
        "\n",
        "#### Field Selection Magic ✨\n",
        "- **No manual GraphQL writing** - everything is auto-generated\n",
        "- **Complete field selections** - no \"must specify subfields\" errors\n",
        "- **Consistent structure** - same types always return identical field sets\n",
        "\n",
        "#### Parameter Validation 🛡️\n",
        "- **Required parameters** are clearly marked (red asterisks in Inspector)\n",
        "- **Type validation** happens before GraphQL execution\n",
        "- **Rich descriptions** help understand what each parameter does\n",
        "\n",
        "#### Performance Optimization ⚡\n",
        "- **Fast responses** thanks to field selection caching\n",
        "- **Consistent queries** - no re-computation of field selections\n",
        "- **Minimal circular references** - smart handling of complex relationships\n",
        "\n",
        "#### Error Handling 🚨\n",
        "- **Clear error messages** when parameters are missing\n",
        "- **GraphQL validation errors** are caught early\n",
        "- **Helpful suggestions** for fixing issues\n",
        "\n",
        "This demonstrates the **power of automatic tool generation** vs manual GraphQL construction!\n"
      ]
    },
    {
      "cell_type": "code",
      "execution_count": null,
      "metadata": {
        "vscode": {
          "languageId": "plaintext"
        }
      },
      "outputs": [],
      "source": [
        "# Start the MCP server with your Strapi CMS GraphQL API\n",
        "# Using our real Strapi instance for demonstration\n",
        "GRAPHQL_ENDPOINT=\"https://patient-song-383e3762d2.strapiapp.com/graphql\" \\\n",
        "npx @toolprint/mcp-graphql-forge --transport http --port 3001\n",
        "\n",
        "# You'll see output like:\n",
        "# 🗂️  Building field selection cache for all types...\n",
        "# 📊 Generated field selections for X types  \n",
        "# Generated Y tools from GraphQL schema:r\n",
        "#   - X query tools (articles, categories, users, etc.)\n",
        "#   - Y mutation tools (create, update, delete operations)\n",
        "# GraphQL MCP Server started with HTTP transport on port 3001\n"
      ]
    },
    {
      "cell_type": "code",
      "execution_count": null,
      "metadata": {
        "vscode": {
          "languageId": "plaintext"
        }
      },
      "outputs": [],
      "source": [
        "### 🎉 Congratulations! \n",
        "\n",
        "You've successfully transformed a Strapi CMS GraphQL API into AI-accessible tools. You've seen:\n",
        "\n",
        "- ✅ **Automatic schema introspection** and tool generation\n",
        "- ✅ **Smart field selection** that handles complex relationships  \n",
        "- ✅ **Parameter validation** that prevents GraphQL errors\n",
        "- ✅ **Fragment caching** for performance and consistency\n",
        "- ✅ **Individual tools** instead of generic query interfaces\n",
        "\n",
        "Now let's explore a more complex example...\n"
      ]
    },
    {
      "cell_type": "code",
      "execution_count": null,
      "metadata": {
        "vscode": {
          "languageId": "plaintext"
        }
      },
      "outputs": [],
      "source": [
        "## 🤖 Chapter 3.5: Connecting to AI Clients (Claude/Cursor)\n",
        "\n",
        "Now that we've tested our GraphQL-to-MCP bridge, let's connect it to actual AI clients where the real magic happens.\n",
        "\n",
        "### The Transport Switch: HTTP → Stdio\n",
        "\n",
        "**Important**: AI clients like Claude and Cursor use **stdio transport**, not HTTP.\n",
        "\n",
        "- **HTTP Transport** = Great for development, testing with Inspector\n",
        "- **Stdio Transport** = Required for AI client integration\n",
        "\n",
        "### Step 1: Configure for AI Client Integration\n"
      ]
    },
    {
      "cell_type": "code",
      "execution_count": null,
      "metadata": {
        "vscode": {
          "languageId": "plaintext"
        }
      },
      "outputs": [],
      "source": [
        "#### For Claude Desktop\n",
        "\n",
        "Create or edit your `claude_desktop_config.json` file:\n",
        "\n",
        "**Location**:\n",
        "- **macOS**: `~/Library/Application Support/Claude/claude_desktop_config.json`\n",
        "- **Windows**: `%APPDATA%\\Claude\\claude_desktop_config.json`\n"
      ]
    },
    {
      "cell_type": "code",
      "execution_count": null,
      "metadata": {
        "vscode": {
          "languageId": "json"
        }
      },
      "outputs": [],
      "source": [
        "{\n",
        "  \"mcpServers\": {\n",
        "    \"strapi-cms\": {\n",
        "      \"command\": \"npx\",\n",
        "      \"args\": [\n",
        "        \"-y\",\n",
        "        \"@toolprint/mcp-graphql-forge\"\n",
        "      ],\n",
        "      \"env\": {\n",
        "        \"GRAPHQL_ENDPOINT\": \"https://patient-song-383e3762d2.strapiapp.com/graphql\"\n",
        "      }\n",
        "    }\n",
        "  }\n",
        "}\n"
      ]
    },
    {
      "cell_type": "code",
      "execution_count": null,
      "metadata": {
        "vscode": {
          "languageId": "json"
        }
      },
      "outputs": [],
      "source": [
        "#### For Cursor\n",
        "\n",
        "Create or edit your `mcp.json` file in your project root:\n"
      ]
    },
    {
      "cell_type": "markdown",
      "metadata": {},
      "source": []
    },
    {
      "cell_type": "code",
      "execution_count": null,
      "metadata": {
        "vscode": {
          "languageId": "plaintext"
        }
      },
      "outputs": [],
      "source": [
        "\n"
      ]
    },
    {
      "cell_type": "code",
      "execution_count": null,
      "metadata": {
        "vscode": {
          "languageId": "plaintext"
        }
      },
      "outputs": [],
      "source": [
        "### Example B: GitHub GraphQL API (Production Scale)\n",
        "\n",
        "Now let's try a real-world, complex API. GitHub's GraphQL API is massive and well-documented.\n",
        "\n",
        "#### Step 1: Get a GitHub Token\n",
        "\n",
        "You'll need a GitHub Personal Access Token:\n"
      ]
    },
    {
      "cell_type": "code",
      "execution_count": null,
      "metadata": {
        "vscode": {
          "languageId": "plaintext"
        }
      },
      "outputs": [],
      "source": [
        "1. Go to GitHub Settings → Developer Settings → Personal Access Tokens\n",
        "2. Generate a new token with `repo` and `read:org` scopes\n",
        "3. Copy the token (you'll need it below)\n",
        "\n",
        "#### Step 2: Start MCP Server with Authentication\n"
      ]
    },
    {
      "cell_type": "code",
      "execution_count": null,
      "metadata": {
        "vscode": {
          "languageId": "plaintext"
        }
      },
      "outputs": [],
      "source": [
        "# Replace YOUR_TOKEN with your actual GitHub token\n",
        "GRAPHQL_ENDPOINT=\"https://api.github.com/graphql\" \\\n",
        "GRAPHQL_AUTH_HEADER=\"Bearer YOUR_TOKEN\" \\\n",
        "npx @toolprint/mcp-graphql-forge --transport http --port 3002\n",
        "\n",
        "# This will generate 100+ tools from GitHub's massive schema!\n",
        "# You'll see tools like:\n",
        "# - query_repository\n",
        "# - query_user  \n",
        "# - query_organization\n",
        "# - mutation_createIssue\n",
        "# - mutation_addComment\n",
        "# - And many more...\n"
      ]
    },
    {
      "cell_type": "code",
      "execution_count": null,
      "metadata": {
        "vscode": {
          "languageId": "plaintext"
        }
      },
      "outputs": [],
      "source": [
        "## 📝 Chapter 4: Schema Design for AI - Best Practices\n",
        "\n",
        "### The Documentation Imperative\n",
        "\n",
        "**Your schema documentation directly determines AI tool quality.** Here are the essential patterns:\n",
        "\n",
        "#### ✅ Excellent Documentation Pattern\n",
        "\n",
        "```graphql\n",
        "type Query {\n",
        "  \"\"\"\n",
        "  Search for repositories based on various criteria. Returns paginated results\n",
        "  with comprehensive repository information including ownership, statistics,\n",
        "  and content metadata. Perfect for repository discovery and analysis tasks.\n",
        "  \n",
        "  Example: Find popular TypeScript repositories with high star counts.\n",
        "  \"\"\"\n",
        "  searchRepositories(\n",
        "    \"\"\"\n",
        "    Search query using GitHub's search syntax. Supports filters like:\n",
        "    - language:typescript (filter by programming language)  \n",
        "    - stars:>1000 (repositories with more than 1000 stars)\n",
        "    - created:>2023-01-01 (recently created repositories)\n",
        "    \"\"\"\n",
        "    query: String!\n",
        "    \n",
        "    \"\"\"Number of results to return (1-100, default: 10)\"\"\"\n",
        "    limit: Int = 10\n",
        "    \n",
        "    \"\"\"Pagination cursor for getting next page of results\"\"\"\n",
        "    after: String\n",
        "  ): SearchRepositoryResult!\n",
        "}\n",
        "```\n",
        "\n",
        "#### ❌ Poor Documentation Pattern\n",
        "\n",
        "```graphql\n",
        "type Query {\n",
        "  # AI has no idea what this does or how to use it\n",
        "  searchRepositories(\n",
        "    query: String!\n",
        "    limit: Int\n",
        "    after: String  \n",
        "  ): SearchRepositoryResult!\n",
        "}\n",
        "```\n"
      ]
    },
    {
      "cell_type": "code",
      "execution_count": null,
      "metadata": {
        "vscode": {
          "languageId": "plaintext"
        }
      },
      "outputs": [],
      "source": [
        "### AI-Friendly Documentation Guidelines\n",
        "\n",
        "#### 1. **Clear Purpose Statement**\n",
        "Start each field description with what it does and why you'd use it.\n",
        "\n",
        "```graphql\n",
        "\"\"\"\n",
        "Create a new user account with email verification. Sends welcome email\n",
        "and sets up default preferences. Use this for user registration flows.\n",
        "\"\"\"\n",
        "createUser(input: CreateUserInput!): User\n",
        "```\n",
        "\n",
        "#### 2. **Parameter Guidance** \n",
        "Explain each parameter's purpose, format, and constraints.\n",
        "\n",
        "```graphql\n",
        "\"\"\"\n",
        "User's email address. Must be valid format and not already registered.\n",
        "Will be used for login and notifications.\n",
        "\"\"\"\n",
        "email: String!\n",
        "\n",
        "\"\"\"\n",
        "Password strength: minimum 8 characters, must include numbers and symbols.\n",
        "Will be securely hashed before storage.\n",
        "\"\"\"  \n",
        "password: String!\n",
        "```\n",
        "\n",
        "#### 3. **Include Examples**\n",
        "Show realistic usage examples in descriptions.\n",
        "\n",
        "```graphql\n",
        "\"\"\"\n",
        "Filter users by role and status. \n",
        "Example: role: \"admin\", active: true returns all active administrators.\n",
        "\"\"\"\n",
        "filterUsers(role: UserRole, active: Boolean): [User]\n",
        "```\n",
        "\n",
        "#### 4. **Error Scenarios**\n",
        "Document when operations might fail.\n",
        "\n",
        "```graphql\n",
        "\"\"\"\n",
        "Delete a user account. Requires admin permissions or self-deletion.\n",
        "Throws PERMISSION_DENIED if unauthorized.\n",
        "Throws NOT_FOUND if user doesn't exist.\n",
        "\"\"\"\n",
        "deleteUser(id: ID!): Boolean\n",
        "```\n"
      ]
    },
    {
      "cell_type": "code",
      "execution_count": null,
      "metadata": {
        "vscode": {
          "languageId": "plaintext"
        }
      },
      "outputs": [],
      "source": [
        "## 🎯 Chapter 5: Toolprint - Smart Tool Orchestration\n",
        "\n",
        "### The Tool Selection Challenge\n",
        "\n",
        "When your MCP GraphQL Forge generates 50+ tools from a complex API, **AI agents struggle to choose the right tools**:\n",
        "\n",
        "- Which tool should I use for \"find recent commits\"?\n",
        "- How do I combine multiple tools to complete a task?\n",
        "- What's the optimal sequence for complex workflows?\n",
        "\n",
        "### Toolprint Solution: Semantic Tool Discovery\n",
        "\n",
        "**Toolprint** enhances MCP by adding intelligent tool selection and workflow creation:\n",
        "\n",
        "#### Semantic Search\n",
        "Instead of tool names, search by **intent**:\n",
        "\n",
        "```javascript\n",
        "// Instead of remembering: \"query_repository\"\n",
        "findTool(\"get repository information\")\n",
        "\n",
        "// Instead of: \"mutation_createIssue\" \n",
        "findTool(\"report a bug or feature request\")\n",
        "\n",
        "// Instead of: \"query_pullRequests\"\n",
        "findTool(\"review code changes\")\n",
        "```\n",
        "\n",
        "#### Workflow Creation (Toolprints)\n",
        "Combine tools into reusable patterns:\n",
        "\n",
        "```yaml\n",
        "# Toolprint: \"Investigate Repository\"\n",
        "name: investigate_repository\n",
        "description: \"Comprehensive repository analysis\"\n",
        "steps:\n",
        "  - tool: query_repository\n",
        "    description: \"Get basic repo info\"\n",
        "  - tool: query_commits  \n",
        "    description: \"Check recent activity\"\n",
        "  - tool: query_issues\n",
        "    description: \"Review open issues\"\n",
        "  - tool: query_contributors\n",
        "    description: \"Analyze contributor activity\"\n",
        "```\n",
        "\n",
        "### Integration with MCP GraphQL Forge\n",
        "\n",
        "Toolprint automatically enhances your generated tools with semantic metadata, making them more discoverable and easier to orchestrate into powerful workflows.\n"
      ]
    },
    {
      "cell_type": "code",
      "execution_count": null,
      "metadata": {
        "vscode": {
          "languageId": "plaintext"
        }
      },
      "outputs": [],
      "source": [
        "## 🚀 Next Steps & Production Readiness\n",
        "\n",
        "### Production Deployment Checklist\n",
        "\n",
        "#### 🔐 Security & Authentication\n",
        "- [ ] Set up proper API authentication (Bearer tokens, API keys)\n",
        "- [ ] Configure CORS for HTTP transport\n",
        "- [ ] Enable audit logging for mutation operations\n",
        "- [ ] Set up rate limiting and quota management\n",
        "\n",
        "#### 📊 Monitoring & Observability  \n",
        "- [ ] Track tool usage metrics and performance\n",
        "- [ ] Monitor GraphQL query complexity and execution time\n",
        "- [ ] Set up alerts for failed operations\n",
        "- [ ] Log all mutations for compliance/audit trails\n",
        "\n",
        "#### 🛡️ Safety Guardrails\n",
        "- [ ] Start with query-only deployment\n",
        "- [ ] Implement mutation approval workflows for high-risk operations\n",
        "- [ ] Set up staging environment for testing tool changes\n",
        "- [ ] Document acceptable use policies for AI agents\n",
        "\n",
        "### Key Takeaways\n",
        "\n",
        "1. **Documentation Quality = Tool Quality**: Invest heavily in GraphQL schema descriptions\n",
        "2. **Safety First**: Start with queries, carefully govern mutations\n",
        "3. **Iterative Approach**: Begin simple, add complexity gradually\n",
        "4. **Monitor Everything**: Track usage, performance, and errors\n",
        "5. **Toolprint Integration**: Use semantic search for better tool discovery\n",
        "\n",
        "### Resources\n",
        "\n",
        "- **MCP GraphQL Forge**: [GitHub Repository](https://github.com/toolprint/mcp-graphql-forge)\n",
        "- **MCP Documentation**: [Model Context Protocol](https://modelcontextprotocol.io/)\n",
        "- **Toolprint Platform**: [Smart Tool Orchestration](https://toolprint.ai)\n",
        "- **GraphQL Best Practices**: [Schema Design Guide](https://graphql.org/learn/best-practices/)\n",
        "\n",
        "---\n",
        "\n",
        "**🎉 Congratulations!** You've successfully transformed GraphQL APIs into AI-accessible tools. Your APIs are now ready to be leveraged by AI agents for automation, analysis, and intelligent workflows.\n"
      ]
    }
  ],
  "metadata": {
    "language_info": {
      "name": "python"
    }
  },
  "nbformat": 4,
  "nbformat_minor": 2
}
